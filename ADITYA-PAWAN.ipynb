{
 "cells": [
  {
   "cell_type": "markdown",
   "metadata": {},
   "source": [
    "# Supplementary Jupyter notebook for PH 821 project"
   ]
  },
  {
   "cell_type": "markdown",
   "metadata": {},
   "source": [
    "### Project title: The Effect of Gravitational Waves on a Ring of Particles"
   ]
  },
  {
   "cell_type": "markdown",
   "metadata": {},
   "source": [
    "Presented by: Aditya Pawan (23D1069)\n",
    "____________________________________"
   ]
  },
  {
   "cell_type": "markdown",
   "metadata": {},
   "source": [
    "In this notebook, I will demonstrate how to simulate the effects of gravitational waves on a ring of particles. We will first look at a two-dimensional representation of the ring of particles, then simulate the response of a monochromatic gravitational wave with the polarization amplitudes being interactable.\n",
    "\n",
    "Later, we shall move to a three-dimensional representation, which allows us to simulate the effect of these gravitational waves originating from a compact binary source with arbitrary position and binary inclination with respect to the ring frame. \n",
    "\n",
    "All effects are amplified for better visualization.\n",
    "\n",
    "Disclaimer: If any animations or widgets break/start lagging, please restart the kernel and run the relevant cells again."
   ]
  },
  {
   "cell_type": "code",
   "execution_count": null,
   "metadata": {},
   "outputs": [],
   "source": [
    "# Dependencies\n",
    "\"\"\"\n",
    "Please check if the following modules are installed in your environment:\n",
    "numpy v1.26.4\n",
    "matplotlib v3.9.1\n",
    "mpl_toolkits\n",
    "\"\"\"\n",
    "\n",
    "import numpy as np\n",
    "import matplotlib.pyplot as pl"
   ]
  },
  {
   "cell_type": "code",
   "execution_count": null,
   "metadata": {},
   "outputs": [],
   "source": [
    "\"\"\"\n",
    "These specific submodules, functions and classes will be used in this project to produce interactive, animated plots.\n",
    "\"\"\"\n",
    "from mpl_toolkits import mplot3d\n",
    "import matplotlib.figure as figure\n",
    "import matplotlib.axes as axes\n",
    "from matplotlib.animation import FuncAnimation\n",
    "import mpl_toolkits.axes_grid1\n",
    "import matplotlib.widgets as widgets"
   ]
  },
  {
   "cell_type": "code",
   "execution_count": null,
   "metadata": {},
   "outputs": [],
   "source": [
    "\"\"\"\n",
    "Matplotlib widget is required for the more interactive plots that contain matplotlib.widget.Slider and \n",
    "matplotlib.widget.Button, as well as FuncAnimation codes. If you wish to switch to a different backend, you may\n",
    "wish to enter your backend of choice. If you wish to use the default (inline) backend for non-interactive and\n",
    "non-animated plots, do not run this cell.\n",
    "\"\"\"\n",
    "%matplotlib widget"
   ]
  },
  {
   "cell_type": "markdown",
   "metadata": {},
   "source": [
    "## Part 1: Simulating a Two-Dimensional Ring of particles\n",
    "___"
   ]
  },
  {
   "cell_type": "markdown",
   "metadata": {},
   "source": [
    "Let us start with a basic plot containing a ring of n = 8 particles.\n",
    "\n",
    "The cell below will be where our simulation will happen, so move back to it after running the cells below it."
   ]
  },
  {
   "cell_type": "code",
   "execution_count": null,
   "metadata": {},
   "outputs": [],
   "source": [
    "fig, ax = pl.subplots()\n",
    "pl.axis('scaled')\n",
    "\n",
    "n = 8\n",
    "theta = np.arange(0,2*np.pi,2*np.pi/n)\n",
    "x = np.cos(theta)\n",
    "y = np.sin(theta)\n",
    "sc, = ax.plot(x, y, marker = 'o', ls = \"\")\n",
    "ax.grid(True)\n",
    "ax.set_xlim(-4.0, 4.0)\n",
    "ax.set_ylim(-4.0, 4.0)\n",
    "pl.show()"
   ]
  },
  {
   "cell_type": "markdown",
   "metadata": {},
   "source": [
    "Let us now add two axes which contain sliders that enable us to vary both plus and cross polarizations."
   ]
  },
  {
   "cell_type": "code",
   "execution_count": null,
   "metadata": {},
   "outputs": [],
   "source": [
    "fig.subplots_adjust(bottom=0.3)\n",
    "\n",
    "axplus = fig.add_axes([0.35, 0.2, 0.55, 0.03])\n",
    "hplus = widgets.Slider(ax=axplus,label='Plus Polarization Amplitude',valmin=0.0,valmax=1.0,valinit=0.5)\n",
    "\n",
    "axcross = fig.add_axes([0.35, 0.1, 0.55, 0.03])\n",
    "hcross = widgets.Slider(ax=axcross,label='Cross Polarization Amplitude',valmin=0.0,valmax=1.0,valinit=0.5)\n",
    "\n",
    "def pos(val):\n",
    "    hp = hplus.val\n",
    "    hc = hcross.val\n",
    "\n",
    "hplus.on_changed(pos)\n",
    "hcross.on_changed(pos)"
   ]
  },
  {
   "cell_type": "markdown",
   "metadata": {},
   "source": [
    "We would not be able to visualize anything on this plot currently since to do that we would need to see it in motion. Fortunately, Matplotlib's animation sub-module contains the class FuncAnimation that allows us to animate a figure using an update function.\n",
    "\n",
    "However, the ability to manipulate the passage of time cannot be changed while the code is running. To provide more control to the user, I introduce the \"Player\" class, which calls the FuncAnimation function and automatically adds an axis that has a slider and buttons for time manipulation."
   ]
  },
  {
   "cell_type": "code",
   "execution_count": null,
   "metadata": {},
   "outputs": [],
   "source": [
    "class Player(FuncAnimation):\n",
    "    def __init__(self, fig, func, frames = None, init_func = None, fargs = None, save_count = None, mini = 0, maxi = 100, pos = (0.125, 0.92), cache_frame_data = False, **kwargs):\n",
    "        self.i = 0\n",
    "        self.min = mini\n",
    "        self.max = maxi\n",
    "        self.runs = True\n",
    "        self.forwards = True\n",
    "        self.looped = False\n",
    "        self.fig = fig\n",
    "        self.func = func\n",
    "        self.setup(pos)\n",
    "        FuncAnimation.__init__(self, self.fig, self.update, frames=self.play(), init_func=init_func, fargs=fargs, save_count=save_count, cache_frame_data=cache_frame_data, **kwargs)\n",
    "    \n",
    "    def play(self):\n",
    "        while self.runs:\n",
    "            self.i = self.i + self.forwards - (not self.forwards)\n",
    "            if self.i > self.min and self.i < self.max:\n",
    "                yield self.i\n",
    "            else:\n",
    "                self.stop()\n",
    "                yield self.i\n",
    "    \n",
    "    def start(self):\n",
    "        self.runs = True\n",
    "        self.event_source.start()\n",
    "    \n",
    "    def stop(self, event=None):\n",
    "        if not self.looped:\n",
    "            self.runs = False\n",
    "            self.event_source.stop()\n",
    "        else:\n",
    "            self.forwards = not self.forwards\n",
    "    \n",
    "    def forward(self, event=None):\n",
    "        self.forwards = True\n",
    "        self.start()\n",
    "    \n",
    "    def backward(self, event=None):\n",
    "        self.forwards = False\n",
    "        self.start()\n",
    "    \n",
    "    def oneforward(self, event=None):\n",
    "        self.forwards = True\n",
    "        self.onestep()\n",
    "    \n",
    "    def onebackward(self, event=None):\n",
    "        self.forwards = False\n",
    "        self.onestep()\n",
    "\n",
    "    def loop(self, event=None):\n",
    "        self.looped = not self.looped\n",
    "    \n",
    "    def onestep(self):\n",
    "        if self.i > self.min and self.i < self.max:\n",
    "            self.i = self.i + self.forwards - (not self.forwards)\n",
    "        elif self.i == self.min and self.forwards:\n",
    "            self.i += 1\n",
    "        elif self.i == self.max and not self.forwards:\n",
    "            self.i -= 1\n",
    "        self.func(self.i)\n",
    "        self.slider.set_val(self.i)\n",
    "        self.fig.canvas.draw_idle()\n",
    "    \n",
    "    def setup(self, pos):\n",
    "        playerax = self.fig.add_axes([pos[0], pos[1], 0.64, 0.04])\n",
    "        divider = mpl_toolkits.axes_grid1.make_axes_locatable(playerax)\n",
    "        bax      = divider.append_axes(\"right\", size=\"80%\",  pad=0.05)\n",
    "        sax      = divider.append_axes(\"right\", size=\"80%\",  pad=0.05)\n",
    "        fax      = divider.append_axes(\"right\", size=\"80%\",  pad=0.05)\n",
    "        ofax     = divider.append_axes(\"right\", size=\"100%\", pad=0.05)\n",
    "        rax = divider.append_axes(\"right\", size=\"80%\", pad=0.05)\n",
    "        sliderax = divider.append_axes(\"right\", size=\"500%\", pad=0.07)\n",
    "        \n",
    "        \n",
    "        self.button_oneback    = widgets.Button(playerax,  label=\"$\\u29CF$\")\n",
    "        self.button_back       = widgets.Button(bax,       label=\"$\\u25C0$\")\n",
    "        self.button_stop       = widgets.Button(sax,       label=\"$\\u25A0$\")\n",
    "        self.button_forward    = widgets.Button(fax,       label=\"$\\u25B6$\")\n",
    "        self.button_oneforward = widgets.Button(ofax,      label=\"$\\u29D0$\")\n",
    "        self.button_loop       = widgets.Button(rax,       label='$\\u27F3$')\n",
    "        \n",
    "        self.button_oneback.on_clicked(self.onebackward)\n",
    "        self.button_back.on_clicked(self.backward)\n",
    "        self.button_stop.on_clicked(self.stop)\n",
    "        self.button_forward.on_clicked(self.forward)\n",
    "        self.button_oneforward.on_clicked(self.oneforward)\n",
    "        self.button_loop.on_clicked(self.loop)\n",
    "\n",
    "        self.slider = widgets.Slider(sliderax, '', self.min, self.max, valinit=self.i)\n",
    "\n",
    "        self.slider.on_changed(self.set_pos)\n",
    "    \n",
    "    def set_pos(self, i):\n",
    "        self.i = int(self.slider.val)\n",
    "        self.func(self.i)\n",
    "\n",
    "    def update(self, i):\n",
    "        self.slider.set_val(i)"
   ]
  },
  {
   "cell_type": "markdown",
   "metadata": {},
   "source": [
    "Now with the aforementioned _Player_ class in place, we construct an update function for it to update our figure continuously (or as the time slider changes).\n",
    "\n",
    "Run the cell below and go back to our plot to simulate Gravitational Waves!"
   ]
  },
  {
   "cell_type": "code",
   "execution_count": null,
   "metadata": {},
   "outputs": [],
   "source": [
    "def pos_ret_XY(val):\n",
    "    t = np.linspace(0,20,102)\n",
    "    hp = hplus.val*np.sin(2*np.pi*t/20)\n",
    "    hc = hcross.val*np.sin(2*np.pi*t/20)\n",
    "    dx = np.array([np.real(0.5*hp*np.cos(theta[i]) + 0.5*hc*np.sin(theta[i])) for i in range(len(theta))])\n",
    "    dy = np.array([np.real(-0.5*hp*np.sin(theta[i]) + 0.5*hc*np.cos(theta[i])) for i in range(len(theta))])\n",
    "    X = np.zeros((len(t), len(theta)))\n",
    "    Y = np.zeros((len(t), len(theta)))\n",
    "    X[0], Y[0] = x, y\n",
    "\n",
    "    for i in range(val + 1):\n",
    "        X[i+1], Y[i+1] = x + dx[:,i], y + dy[:,i]\n",
    "    return X, Y\n",
    "\n",
    "\n",
    "def update(i):\n",
    "    X, Y = pos_ret_XY(i)\n",
    "    xt = X[i+1]\n",
    "    yt = Y[i+1]\n",
    "    sc.set_data(xt, yt)\n",
    "\n",
    "ani = Player(fig, update, maxi=100, interval = 60)"
   ]
  },
  {
   "cell_type": "markdown",
   "metadata": {},
   "source": [
    "## Part 2: Simulating the effect of a compact binary source in Three Dimensions\n",
    "___"
   ]
  },
  {
   "cell_type": "markdown",
   "metadata": {},
   "source": [
    "Now that we have seen how gravitational waves affect a ring of particles propagated perpendicular to the plane where the ring sits, the next step is to of course ask how the same gravitational wave's effect will affect the ring when the wave is propagating from an arbitrary direction.\n",
    "\n",
    "Not only that, but as we are simulating compact binary sources, we would like to see how the deviation of the orbit normal to the source vector (which we will refer to as the \"_polarization_\" angle) affects what is seen in the ring."
   ]
  },
  {
   "cell_type": "code",
   "execution_count": null,
   "metadata": {},
   "outputs": [],
   "source": [
    "\"\"\"\n",
    "In case you needed to restart the kernel for running part 2, here are all the necessary package imports.\n",
    "\"\"\"\n",
    "import numpy as np\n",
    "import matplotlib.pyplot as pl\n",
    "from mpl_toolkits import mplot3d\n",
    "import matplotlib.figure as figure\n",
    "import matplotlib.axes as axes\n",
    "from matplotlib.animation import FuncAnimation\n",
    "import mpl_toolkits.axes_grid1\n",
    "import matplotlib.widgets as widgets\n",
    "%matplotlib widget"
   ]
  },
  {
   "cell_type": "markdown",
   "metadata": {},
   "source": [
    "Now, in order to simulate this effect in 3D space, first we need a good representation of the orientation of the binary source.\n",
    "\n",
    "The binary source is located at an arbitrary point _P_ $(r \\sin(\\theta)\\cos(\\phi), r \\sin(\\theta)\\sin(\\phi), r \\cos(\\theta))$. But that's not all.\n",
    "\n",
    "Imagine that the normal to this plane, that points in the opposite direction of $\\vec{OP}$ where _O_ is the origin, is now rotated by an angle $\\psi$ about the normal direction. This is the polarization angle, and it is the third Euler angle that allows for us to convert our gravitational wave amplitude from the source frame to the ring frame using the Antenna functions $F_{+}(\\theta, \\phi, \\psi)$ and $F_{\\times}(\\theta, \\phi, \\psi)$\n",
    "\n",
    "Running the cells below will generate a 3D plot where the angles can be varied accordingly."
   ]
  },
  {
   "cell_type": "code",
   "execution_count": null,
   "metadata": {},
   "outputs": [],
   "source": [
    "def plot_projection(theta, phi, psi): # now with an added circle with polarization angle\n",
    "    figure = pl.figure()\n",
    "\n",
    "    axes = figure.add_axes([0,0.3,1,0.7],projection='3d')\n",
    "    pl.axis('scaled')\n",
    "    radial = np.linspace(0, 10, 101)\n",
    "    xline = radial*np.sin(theta)*np.cos(phi)\n",
    "    yline = radial*np.sin(theta)*np.sin(phi)\n",
    "    zline = radial*np.cos(theta)\n",
    "\n",
    "    alpha = np.linspace(0,2*np.pi,101)\n",
    "    xloc, yloc, zloc = xline[100], yline[100], zline[100]\n",
    "    xcircle = xloc - 2*np.cos(alpha)*np.cos(psi)*np.sin(phi) + 2*np.cos(alpha)*np.sin(psi)*np.sin(theta)*np.cos(phi) + 2*np.sin(alpha)*np.cos(theta)*np.cos(phi)\n",
    "    ycircle = yloc + 2*np.cos(alpha)*np.cos(psi)*np.cos(phi) + 2*np.cos(alpha)*np.sin(psi)*np.sin(theta)*np.sin(phi) + 2*np.sin(alpha)*np.cos(theta)*np.sin(phi)\n",
    "    zcircle = zloc + 2*np.cos(alpha)*np.sin(psi)*np.cos(theta) - 2*np.sin(alpha)*np.sin(theta)\n",
    "\n",
    "    xvec = -5*(np.cos(psi)*np.sin(theta)*np.cos(phi) + np.sin(psi)*np.sin(phi))\n",
    "    yvec = -5*(np.cos(psi)*np.sin(theta)*np.sin(phi) - np.sin(psi)*np.cos(phi))\n",
    "    zvec = -5*np.cos(psi)*np.cos(theta)\n",
    "\n",
    "    plot1, = axes.plot(xline, yline, zline,'b')\n",
    "    plot2, = axes.plot(xcircle, ycircle, zcircle, 'g')\n",
    "    plot3 = axes.quiver(xloc, yloc, zloc, xvec, yvec, zvec, color='purple', alpha=0.8, lw=3)\n",
    "    axes.set_xlim(-10,10)\n",
    "    axes.set_ylim(-10,10)\n",
    "    axes.set_zlim(-10,10)\n",
    "\n",
    "    return figure, axes, plot1, plot2, plot3"
   ]
  },
  {
   "cell_type": "code",
   "execution_count": null,
   "metadata": {},
   "outputs": [],
   "source": [
    "fig, ax, p1, p2, p3 = plot_projection(np.pi/2, np.pi, 0.0)"
   ]
  },
  {
   "cell_type": "code",
   "execution_count": null,
   "metadata": {},
   "outputs": [],
   "source": [
    "axtheta = fig.add_axes([0.2, 0.2, 0.65, 0.03])\n",
    "axphi = fig.add_axes([0.2, 0.1, 0.65, 0.03])\n",
    "axpsi = fig.add_axes([0.2, 0.0, 0.65, 0.03])\n",
    "resetax = fig.add_axes([0.2, 0.3, 0.1, 0.03])\n",
    "theta = widgets.Slider(axtheta, 'theta (in pi units)', valmin=0.0, valmax=1.0, valinit=0.5)\n",
    "phi = widgets.Slider(axphi, 'phi (in pi units)', valmin=0.0, valmax=2.0, valinit=1.0)\n",
    "psi = widgets.Slider(axpsi, 'psi (in pi units)', valmin=-1.0, valmax=1.0, valinit=0.0)\n",
    "reset_button = widgets.Button(resetax, 'Reset', hovercolor='0.975')"
   ]
  },
  {
   "cell_type": "code",
   "execution_count": null,
   "metadata": {},
   "outputs": [],
   "source": [
    "def set_theta_phi(i):\n",
    "    global ax, p1, p2, p3\n",
    "    radial = np.linspace(0, 10, 101)\n",
    "    th = theta.val*np.pi\n",
    "    ph = phi.val*np.pi\n",
    "    ps = psi.val*np.pi\n",
    "    xline = radial*np.sin(th)*np.cos(ph)\n",
    "    yline = radial*np.sin(th)*np.sin(ph)\n",
    "    zline = radial*np.cos(th)\n",
    "    \n",
    "    alpha = np.linspace(0,2*np.pi,101)\n",
    "    xloc, yloc, zloc = xline[100], yline[100], zline[100]\n",
    "        \n",
    "    xcircle = xloc - 2*np.cos(alpha)*np.cos(ps)*np.sin(ph) + 2*np.cos(alpha)*np.sin(ps)*np.sin(th)*np.cos(ph) + 2*np.sin(alpha)*np.cos(th)*np.cos(ph)\n",
    "    ycircle = yloc + 2*np.cos(alpha)*np.cos(ps)*np.cos(ph) + 2*np.cos(alpha)*np.sin(ps)*np.sin(th)*np.sin(ph) + 2*np.sin(alpha)*np.cos(th)*np.sin(ph)\n",
    "    zcircle = zloc + 2*np.cos(alpha)*np.sin(ps)*np.cos(th) - 2*np.sin(alpha)*np.sin(th)\n",
    "\n",
    "    xvec = -5*(np.cos(ps)*np.sin(th)*np.cos(ph) + np.sin(ps)*np.sin(ph))\n",
    "    yvec = -5*(np.cos(ps)*np.sin(th)*np.sin(ph) - np.sin(ps)*np.cos(ph))\n",
    "    zvec = -5*np.cos(ps)*np.cos(th)\n",
    "\n",
    "    p1.set_data(xline, yline)\n",
    "    p1.set_3d_properties(zline)\n",
    "    p2.set_data(xcircle, ycircle)\n",
    "    p2.set_3d_properties(zcircle)\n",
    "    p3.remove()\n",
    "    p3 = ax.quiver(xloc, yloc, zloc, xvec, yvec, zvec, color='purple', alpha=0.8, lw=3)\n",
    "    kwall = i\n",
    "    ax.set_xlim(-10,10)\n",
    "    ax.set_ylim(-10,10)\n",
    "    ax.set_zlim(-10,10)"
   ]
  },
  {
   "cell_type": "code",
   "execution_count": null,
   "metadata": {},
   "outputs": [],
   "source": [
    "def reset(i):\n",
    "    theta.reset()\n",
    "    phi.reset()\n",
    "    psi.reset()\n",
    "\n",
    "reset_button.on_clicked(reset)\n",
    "\n",
    "theta.on_changed(set_theta_phi)\n",
    "phi.on_changed(set_theta_phi)\n",
    "psi.on_changed(set_theta_phi)"
   ]
  },
  {
   "cell_type": "markdown",
   "metadata": {},
   "source": [
    "Now that we have successfully made our representation of the compact binary with respect to the ring located near the origin, we turn our attention to creating and animating the ring.\n",
    "\n",
    "Run the cells below to start the 3D simulation!"
   ]
  },
  {
   "cell_type": "code",
   "execution_count": null,
   "metadata": {},
   "outputs": [],
   "source": [
    "beta = np.arange(0,2*np.pi,np.pi/4)\n",
    "x = 5*np.cos(beta)\n",
    "y = 5*np.sin(beta)\n",
    "z = 5*np.zeros(np.size(beta))\n",
    "sc, = ax.plot(x, y, z, linestyle=\"\", marker='o')\n",
    "fig.subplots_adjust(bottom=0.3, left=0.3)"
   ]
  },
  {
   "cell_type": "code",
   "execution_count": null,
   "metadata": {},
   "outputs": [],
   "source": [
    "axplus = fig.add_axes([0.05, 0.3, 0.03, 0.55])\n",
    "hplus = widgets.Slider(ax=axplus,label='Plus',valmin=0.0,valmax=5.0,valinit=2.5,orientation='vertical')\n",
    "\n",
    "axcross = fig.add_axes([0.15, 0.3, 0.03, 0.55])\n",
    "hcross = widgets.Slider(ax=axcross,label='Cross',valmin=0.0,valmax=5.0,valinit=2.5,orientation='vertical')"
   ]
  },
  {
   "cell_type": "code",
   "execution_count": null,
   "metadata": {},
   "outputs": [],
   "source": [
    "def reset(i):\n",
    "    hplus.reset()\n",
    "    hcross.reset()\n",
    "    theta.reset()\n",
    "    phi.reset()\n",
    "    psi.reset()"
   ]
  },
  {
   "cell_type": "code",
   "execution_count": null,
   "metadata": {},
   "outputs": [],
   "source": [
    "reset_button.on_clicked(reset)"
   ]
  },
  {
   "cell_type": "code",
   "execution_count": null,
   "metadata": {},
   "outputs": [],
   "source": [
    "def pos(val):\n",
    "    hp = hplus.val\n",
    "    hc = hcross.val\n",
    "\n",
    "hplus.on_changed(pos)\n",
    "hcross.on_changed(pos)"
   ]
  },
  {
   "cell_type": "code",
   "execution_count": null,
   "metadata": {},
   "outputs": [],
   "source": [
    "class Player(FuncAnimation):\n",
    "    def __init__(self, fig, func, frames = None, init_func = None, fargs = None, save_count = None, mini = 0, maxi = 100, pos = (0.125, 0.92), cache_frame_data = False, **kwargs):\n",
    "        self.i = 0\n",
    "        self.min = mini\n",
    "        self.max = maxi\n",
    "        self.runs = True\n",
    "        self.forwards = True\n",
    "        self.looped = False\n",
    "        self.fig = fig\n",
    "        self.func = func\n",
    "        self.setup(pos)\n",
    "        FuncAnimation.__init__(self, self.fig, self.update, frames=self.play(), init_func=init_func, fargs=fargs, save_count=save_count, cache_frame_data=cache_frame_data, **kwargs)\n",
    "    \n",
    "    def play(self):\n",
    "        while self.runs:\n",
    "            self.i = self.i + self.forwards - (not self.forwards)\n",
    "            if self.i > self.min and self.i < self.max:\n",
    "                yield self.i\n",
    "            else:\n",
    "                self.stop()\n",
    "                yield self.i\n",
    "    \n",
    "    def start(self):\n",
    "        self.runs = True\n",
    "        self.event_source.start()\n",
    "    \n",
    "    def stop(self, event=None):\n",
    "        if not self.looped:\n",
    "            self.runs = False\n",
    "            self.event_source.stop()\n",
    "        else:\n",
    "            self.forwards = not self.forwards\n",
    "    \n",
    "    def forward(self, event=None):\n",
    "        self.forwards = True\n",
    "        self.start()\n",
    "    \n",
    "    def backward(self, event=None):\n",
    "        self.forwards = False\n",
    "        self.start()\n",
    "    \n",
    "    def oneforward(self, event=None):\n",
    "        self.forwards = True\n",
    "        self.onestep()\n",
    "    \n",
    "    def onebackward(self, event=None):\n",
    "        self.forwards = False\n",
    "        self.onestep()\n",
    "\n",
    "    def loop(self, event=None):\n",
    "        self.looped = not self.looped\n",
    "    \n",
    "    def onestep(self):\n",
    "        if self.i > self.min and self.i < self.max:\n",
    "            self.i = self.i + self.forwards - (not self.forwards)\n",
    "        elif self.i == self.min and self.forwards:\n",
    "            self.i += 1\n",
    "        elif self.i == self.max and not self.forwards:\n",
    "            self.i -= 1\n",
    "        self.func(self.i)\n",
    "        self.slider.set_val(self.i)\n",
    "        self.fig.canvas.draw_idle()\n",
    "    \n",
    "    def setup(self, pos):\n",
    "        playerax = self.fig.add_axes([pos[0], pos[1], 0.64, 0.04])\n",
    "        divider = mpl_toolkits.axes_grid1.make_axes_locatable(playerax)\n",
    "        bax      = divider.append_axes(\"right\", size=\"80%\",  pad=0.05)\n",
    "        sax      = divider.append_axes(\"right\", size=\"80%\",  pad=0.05)\n",
    "        fax      = divider.append_axes(\"right\", size=\"80%\",  pad=0.05)\n",
    "        ofax     = divider.append_axes(\"right\", size=\"100%\", pad=0.05)\n",
    "        rax = divider.append_axes(\"right\", size=\"80%\", pad=0.05)\n",
    "        sliderax = divider.append_axes(\"right\", size=\"500%\", pad=0.07)\n",
    "        \n",
    "        \n",
    "        self.button_oneback    = widgets.Button(playerax,  label=\"$\\u29CF$\")\n",
    "        self.button_back       = widgets.Button(bax,       label=\"$\\u25C0$\")\n",
    "        self.button_stop       = widgets.Button(sax,       label=\"$\\u25A0$\")\n",
    "        self.button_forward    = widgets.Button(fax,       label=\"$\\u25B6$\")\n",
    "        self.button_oneforward = widgets.Button(ofax,      label=\"$\\u29D0$\")\n",
    "        self.button_loop       = widgets.Button(rax,       label='$\\u27F3$')\n",
    "        \n",
    "        self.button_oneback.on_clicked(self.onebackward)\n",
    "        self.button_back.on_clicked(self.backward)\n",
    "        self.button_stop.on_clicked(self.stop)\n",
    "        self.button_forward.on_clicked(self.forward)\n",
    "        self.button_oneforward.on_clicked(self.oneforward)\n",
    "        self.button_loop.on_clicked(self.loop)\n",
    "\n",
    "        self.slider = widgets.Slider(sliderax, '', self.min, self.max, valinit=self.i)\n",
    "\n",
    "        self.slider.on_changed(self.set_pos)\n",
    "    \n",
    "    def set_pos(self, i):\n",
    "        self.i = int(self.slider.val)\n",
    "        self.func(self.i)\n",
    "\n",
    "    def update(self, i):\n",
    "        self.slider.set_val(i)"
   ]
  },
  {
   "cell_type": "code",
   "execution_count": null,
   "metadata": {},
   "outputs": [],
   "source": [
    "def wave2detframe(hp,hc,theta,phi,psi):\n",
    "    Fp = 0.5*(1 + np.cos(theta)**2)*np.cos(2*phi)*np.cos(2*psi) - np.cos(theta)*np.sin(2*phi)*np.sin(2*psi)\n",
    "    Fc = 0.5*(1 + np.cos(theta)**2)*np.cos(2*phi)*np.sin(2*psi) + np.cos(theta)*np.sin(2*phi)*np.cos(2*psi)\n",
    "\n",
    "    return hp*Fp, hc*Fc"
   ]
  },
  {
   "cell_type": "code",
   "execution_count": null,
   "metadata": {},
   "outputs": [],
   "source": [
    "def pos_ret_XY(val):\n",
    "    t = np.linspace(0,20,102)\n",
    "    hp, hc = wave2detframe(hplus.val, hcross.val, theta.val, phi.val, psi.val)\n",
    "\n",
    "    hpp = hp*np.cos(2*np.pi*t/20)\n",
    "    hcc = hc*np.cos(2*np.pi*t/20)\n",
    "\n",
    "    dx = np.array([np.real(0.5*hpp*np.cos(beta[i]) + 0.5*hcc*np.sin(beta[i])) for i in range(len(beta))])\n",
    "    dy = np.array([np.real(-0.5*hpp*np.sin(beta[i]) + 0.5*hcc*np.cos(beta[i])) for i in range(len(beta))])\n",
    "    X = np.zeros((len(t), len(beta)))\n",
    "    Y = np.zeros((len(t), len(beta)))\n",
    "    X[0], Y[0] = x, y\n",
    "\n",
    "    for i in range(val + 1):\n",
    "        X[i+1], Y[i+1] = x + dx[:,i], y + dy[:,i]\n",
    "    return X, Y"
   ]
  },
  {
   "cell_type": "code",
   "execution_count": null,
   "metadata": {},
   "outputs": [],
   "source": [
    "def update(i):\n",
    "    X, Y = pos_ret_XY(i)\n",
    "    zt = 0\n",
    "    xt = X[i+1]\n",
    "    yt = Y[i+1]\n",
    "    sc.set_data(xt, yt)\n",
    "    sc.set_3d_properties(zt)\n",
    "\n",
    "ani = Player(fig, update, maxi=100, interval = 60)"
   ]
  },
  {
   "cell_type": "markdown",
   "metadata": {},
   "source": [
    "You have reached the end of this supplementary Jupyter notebook. \n",
    "\n",
    "Thank you for your time, and hope you enjoyed running and playing with this simulation as much as I did!\n",
    "\n",
    "Comments are much appreciated."
   ]
  }
 ],
 "metadata": {
  "kernelspec": {
   "display_name": "env",
   "language": "python",
   "name": "python3"
  },
  "language_info": {
   "codemirror_mode": {
    "name": "ipython",
    "version": 3
   },
   "file_extension": ".py",
   "mimetype": "text/x-python",
   "name": "python",
   "nbconvert_exporter": "python",
   "pygments_lexer": "ipython3",
   "version": "3.12.0"
  }
 },
 "nbformat": 4,
 "nbformat_minor": 2
}
